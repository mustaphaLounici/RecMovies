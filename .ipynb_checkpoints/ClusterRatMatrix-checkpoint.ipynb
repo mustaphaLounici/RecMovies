{
 "cells": [
  {
   "cell_type": "code",
   "execution_count": 1,
   "metadata": {
    "colab": {
     "base_uri": "https://localhost:8080/",
     "height": 238
    },
    "colab_type": "code",
    "id": "rXJkLneerDRl",
    "outputId": "e5486279-1c17-4307-bf11-839b327b2f07"
   },
   "outputs": [
    {
     "name": "stdout",
     "output_type": "stream",
     "text": [
      "Requirement already satisfied: scikit-fuzzy in c:\\users\\mustapha\\anaconda3\\lib\\site-packages (0.4.1)\n",
      "Requirement already satisfied: networkx>=1.9.0 in c:\\users\\mustapha\\anaconda3\\lib\\site-packages (from scikit-fuzzy) (2.2)\n",
      "Requirement already satisfied: numpy>=1.6.0 in c:\\users\\mustapha\\anaconda3\\lib\\site-packages (from scikit-fuzzy) (1.16.3)\n",
      "Requirement already satisfied: scipy>=0.9.0 in c:\\users\\mustapha\\anaconda3\\lib\\site-packages (from scikit-fuzzy) (1.2.1)\n",
      "Requirement already satisfied: decorator>=4.3.0 in c:\\users\\mustapha\\anaconda3\\lib\\site-packages (from networkx>=1.9.0->scikit-fuzzy) (4.4.0)\n"
     ]
    }
   ],
   "source": [
    "!pip3 install scikit-fuzzy"
   ]
  },
  {
   "cell_type": "code",
   "execution_count": 2,
   "metadata": {
    "colab": {},
    "colab_type": "code",
    "id": "CRZoKtOprjHW"
   },
   "outputs": [],
   "source": [
    "from sklearn.cluster import KMeans\n",
    "import skfuzzy as fuzz\n",
    "import numpy as np\n",
    "import pandas as pd"
   ]
  },
  {
   "cell_type": "code",
   "execution_count": 3,
   "metadata": {
    "colab": {},
    "colab_type": "code",
    "id": "aqliJgmRrrnr"
   },
   "outputs": [
    {
     "name": "stdout",
     "output_type": "stream",
     "text": [
      "        userId  movieId  rating   timestamp\n",
      "0            1       31     2.5  1260759144\n",
      "1            1     1029     3.0  1260759179\n",
      "2            1     1061     3.0  1260759182\n",
      "3            1     1129     2.0  1260759185\n",
      "4            1     1172     4.0  1260759205\n",
      "5            1     1263     2.0  1260759151\n",
      "6            1     1287     2.0  1260759187\n",
      "7            1     1293     2.0  1260759148\n",
      "8            1     1339     3.5  1260759125\n",
      "9            1     1343     2.0  1260759131\n",
      "10           1     1371     2.5  1260759135\n",
      "11           1     1405     1.0  1260759203\n",
      "12           1     1953     4.0  1260759191\n",
      "13           1     2105     4.0  1260759139\n",
      "14           1     2150     3.0  1260759194\n",
      "15           1     2193     2.0  1260759198\n",
      "16           1     2294     2.0  1260759108\n",
      "17           1     2455     2.5  1260759113\n",
      "18           1     2968     1.0  1260759200\n",
      "19           1     3671     3.0  1260759117\n",
      "20           2       10     4.0   835355493\n",
      "21           2       17     5.0   835355681\n",
      "22           2       39     5.0   835355604\n",
      "23           2       47     4.0   835355552\n",
      "24           2       50     4.0   835355586\n",
      "25           2       52     3.0   835356031\n",
      "26           2       62     3.0   835355749\n",
      "27           2      110     4.0   835355532\n",
      "28           2      144     3.0   835356016\n",
      "29           2      150     5.0   835355395\n",
      "...        ...      ...     ...         ...\n",
      "99974      671     4034     4.5  1064245493\n",
      "99975      671     4306     5.0  1064245548\n",
      "99976      671     4308     3.5  1065111985\n",
      "99977      671     4880     4.0  1065111973\n",
      "99978      671     4886     5.0  1064245488\n",
      "99979      671     4896     5.0  1065111996\n",
      "99980      671     4963     4.5  1065111855\n",
      "99981      671     4973     4.5  1064245471\n",
      "99982      671     4993     5.0  1064245483\n",
      "99983      671     4995     4.0  1064891537\n",
      "99984      671     5010     2.0  1066793004\n",
      "99985      671     5218     2.0  1065111990\n",
      "99986      671     5299     3.0  1065112004\n",
      "99987      671     5349     4.0  1065111863\n",
      "99988      671     5377     4.0  1064245557\n",
      "99989      671     5445     4.5  1064891627\n",
      "99990      671     5464     3.0  1064891549\n",
      "99991      671     5669     4.0  1063502711\n",
      "99992      671     5816     4.0  1065111963\n",
      "99993      671     5902     3.5  1064245507\n",
      "99994      671     5952     5.0  1063502716\n",
      "99995      671     5989     4.0  1064890625\n",
      "99996      671     5991     4.5  1064245387\n",
      "99997      671     5995     4.0  1066793014\n",
      "99998      671     6212     2.5  1065149436\n",
      "99999      671     6268     2.5  1065579370\n",
      "100000     671     6269     4.0  1065149201\n",
      "100001     671     6365     4.0  1070940363\n",
      "100002     671     6385     2.5  1070979663\n",
      "100003     671     6565     3.5  1074784724\n",
      "\n",
      "[100004 rows x 4 columns]\n"
     ]
    }
   ],
   "source": [
    "ml_url = \"https://raw.githubusercontent.com/mustaphaLounici/RecMovies/master/ml-latest-small/ratings.csv\"\n",
    "df = pd.read_csv(ml_url)\n",
    "print(df)\n"
   ]
  },
  {
   "cell_type": "code",
   "execution_count": 4,
   "metadata": {
    "colab": {},
    "colab_type": "code",
    "id": "BAT_Qexu-KmK"
   },
   "outputs": [],
   "source": [
    "usersRawIds = np.array(list(set(df[\"userId\"])))\n",
    "i = 0\n",
    "in2r_users = {}\n",
    "r2in_users = {}\n",
    "\n",
    "for id in usersRawIds:\n",
    "    in2r_users[i] = id\n",
    "    r2in_users[id] = i\n",
    "    i = i+1\n",
    "\n",
    "\n",
    "def getRawUserId(id):\n",
    "    return in2r_users[id]\n",
    "\n",
    "\n",
    "def getInnerUserId(id):\n",
    "    return r2in_users[id]"
   ]
  },
  {
   "cell_type": "code",
   "execution_count": 5,
   "metadata": {
    "colab": {},
    "colab_type": "code",
    "id": "15kR1FGw-PZg"
   },
   "outputs": [],
   "source": [
    "\n",
    "itemsRawIds = np.array(list(set(df[\"movieId\"])))\n",
    "\n",
    "i = 0\n",
    "in2r_items = {}\n",
    "r2in_items = {}\n",
    "\n",
    "for id in itemsRawIds:\n",
    "    in2r_items[i] = id\n",
    "    r2in_items[id] = i\n",
    "    i = i+1\n",
    "\n",
    "\n",
    "def getRawItemsId(id):\n",
    "    return in2r_items[id]\n",
    "\n",
    "\n",
    "def getInnerItemsId(id):\n",
    "    return r2in_items[id]\n",
    "\n"
   ]
  },
  {
   "cell_type": "code",
   "execution_count": 6,
   "metadata": {
    "colab": {
     "base_uri": "https://localhost:8080/",
     "height": 136
    },
    "colab_type": "code",
    "id": "ti9JXPd3-Tw1",
    "outputId": "aa7fbd2a-bc06-4e3a-8dae-f6ab10033a26"
   },
   "outputs": [
    {
     "name": "stdout",
     "output_type": "stream",
     "text": [
      "[[0. 0. 0. ... 0. 0. 0.]\n",
      " [0. 0. 0. ... 0. 0. 0.]\n",
      " [0. 0. 0. ... 0. 0. 0.]\n",
      " ...\n",
      " [0. 0. 0. ... 0. 0. 0.]\n",
      " [4. 0. 0. ... 0. 0. 0.]\n",
      " [5. 0. 0. ... 0. 0. 0.]]\n"
     ]
    }
   ],
   "source": [
    "ratMatrix = np.zeros((len(usersRawIds), len(itemsRawIds)))\n",
    "\n",
    "\n",
    "for index, row in df.iterrows():\n",
    "    userId = int(row['userId'])\n",
    "    itemId = int(row['movieId'])\n",
    "    rating = row['rating']\n",
    "    ratMatrix[getInnerUserId(userId), getInnerItemsId(itemId)] = rating\n",
    "\n",
    "print(ratMatrix)"
   ]
  },
  {
   "cell_type": "code",
   "execution_count": 7,
   "metadata": {
    "colab": {
     "base_uri": "https://localhost:8080/",
     "height": 1105
    },
    "colab_type": "code",
    "id": "FZj90OJeDwHb",
    "outputId": "b426fd1e-8e6d-4b89-d0c7-6dfc39b50fb3"
   },
   "outputs": [
    {
     "name": "stdout",
     "output_type": "stream",
     "text": [
      "      movieId                                              title  \\\n",
      "0           1                                   Toy Story (1995)   \n",
      "1           2                                     Jumanji (1995)   \n",
      "2           3                            Grumpier Old Men (1995)   \n",
      "3           4                           Waiting to Exhale (1995)   \n",
      "4           5                 Father of the Bride Part II (1995)   \n",
      "5           6                                        Heat (1995)   \n",
      "6           7                                     Sabrina (1995)   \n",
      "7           8                                Tom and Huck (1995)   \n",
      "8           9                                Sudden Death (1995)   \n",
      "9          10                                   GoldenEye (1995)   \n",
      "10         11                     American President, The (1995)   \n",
      "11         12                 Dracula: Dead and Loving It (1995)   \n",
      "12         13                                       Balto (1995)   \n",
      "13         14                                       Nixon (1995)   \n",
      "14         15                            Cutthroat Island (1995)   \n",
      "15         16                                      Casino (1995)   \n",
      "16         17                       Sense and Sensibility (1995)   \n",
      "17         18                                  Four Rooms (1995)   \n",
      "18         19              Ace Ventura: When Nature Calls (1995)   \n",
      "19         20                                 Money Train (1995)   \n",
      "20         21                                  Get Shorty (1995)   \n",
      "21         22                                     Copycat (1995)   \n",
      "22         23                                   Assassins (1995)   \n",
      "23         24                                      Powder (1995)   \n",
      "24         25                           Leaving Las Vegas (1995)   \n",
      "25         26                                     Othello (1995)   \n",
      "26         27                                Now and Then (1995)   \n",
      "27         28                                  Persuasion (1995)   \n",
      "28         29  City of Lost Children, The (Cité des enfants p...   \n",
      "29         30  Shanghai Triad (Yao a yao yao dao waipo qiao) ...   \n",
      "...       ...                                                ...   \n",
      "9095   159690  Teenage Mutant Ninja Turtles: Out of the Shado...   \n",
      "9096   159755          Popstar: Never Stop Never Stopping (2016)   \n",
      "9097   159858                             The Conjuring 2 (2016)   \n",
      "9098   159972                     Approaching the Unknown (2016)   \n",
      "9099   160080                                Ghostbusters (2016)   \n",
      "9100   160271                        Central Intelligence (2016)   \n",
      "9101   160438                                Jason Bourne (2016)   \n",
      "9102   160440                             The Maid's Room (2014)   \n",
      "9103   160563                        The Legend of Tarzan (2016)   \n",
      "9104   160565                    The Purge: Election Year (2016)   \n",
      "9105   160567              Mike & Dave Need Wedding Dates (2016)   \n",
      "9106   160590                         Survive and Advance (2013)   \n",
      "9107   160656                                    Tallulah (2016)   \n",
      "9108   160718                                       Piper (2016)   \n",
      "9109   160954                                       Nerve (2016)   \n",
      "9110   161084                       My Friend Rockefeller (2015)   \n",
      "9111   161155                                   Sunspring (2016)   \n",
      "9112   161336                  Author: The JT LeRoy Story (2016)   \n",
      "9113   161582                          Hell or High Water (2016)   \n",
      "9114   161594               Kingsglaive: Final Fantasy XV (2016)   \n",
      "9115   161830                                        Body (2015)   \n",
      "9116   161918                Sharknado 4: The 4th Awakens (2016)   \n",
      "9117   161944              The Last Brickmaker in America (2001)   \n",
      "9118   162376                                    Stranger Things   \n",
      "9119   162542                                      Rustom (2016)   \n",
      "9120   162672                                Mohenjo Daro (2016)   \n",
      "9121   163056                               Shin Godzilla (2016)   \n",
      "9122   163949  The Beatles: Eight Days a Week - The Touring Y...   \n",
      "9123   164977                           The Gay Desperado (1936)   \n",
      "9124   164979                              Women of '69, Unboxed   \n",
      "\n",
      "                                               genres  \n",
      "0         Adventure|Animation|Children|Comedy|Fantasy  \n",
      "1                          Adventure|Children|Fantasy  \n",
      "2                                      Comedy|Romance  \n",
      "3                                Comedy|Drama|Romance  \n",
      "4                                              Comedy  \n",
      "5                               Action|Crime|Thriller  \n",
      "6                                      Comedy|Romance  \n",
      "7                                  Adventure|Children  \n",
      "8                                              Action  \n",
      "9                           Action|Adventure|Thriller  \n",
      "10                               Comedy|Drama|Romance  \n",
      "11                                      Comedy|Horror  \n",
      "12                       Adventure|Animation|Children  \n",
      "13                                              Drama  \n",
      "14                           Action|Adventure|Romance  \n",
      "15                                        Crime|Drama  \n",
      "16                                      Drama|Romance  \n",
      "17                                             Comedy  \n",
      "18                                             Comedy  \n",
      "19                 Action|Comedy|Crime|Drama|Thriller  \n",
      "20                              Comedy|Crime|Thriller  \n",
      "21                Crime|Drama|Horror|Mystery|Thriller  \n",
      "22                              Action|Crime|Thriller  \n",
      "23                                       Drama|Sci-Fi  \n",
      "24                                      Drama|Romance  \n",
      "25                                              Drama  \n",
      "26                                     Children|Drama  \n",
      "27                                      Drama|Romance  \n",
      "28             Adventure|Drama|Fantasy|Mystery|Sci-Fi  \n",
      "29                                        Crime|Drama  \n",
      "...                                               ...  \n",
      "9095                          Action|Adventure|Comedy  \n",
      "9096                                           Comedy  \n",
      "9097                                           Horror  \n",
      "9098                            Drama|Sci-Fi|Thriller  \n",
      "9099                      Action|Comedy|Horror|Sci-Fi  \n",
      "9100                                    Action|Comedy  \n",
      "9101                                           Action  \n",
      "9102                                         Thriller  \n",
      "9103                                 Action|Adventure  \n",
      "9104                             Action|Horror|Sci-Fi  \n",
      "9105                                           Comedy  \n",
      "9106                               (no genres listed)  \n",
      "9107                                            Drama  \n",
      "9108                                        Animation  \n",
      "9109                                   Drama|Thriller  \n",
      "9110                                      Documentary  \n",
      "9111                                           Sci-Fi  \n",
      "9112                                      Documentary  \n",
      "9113                                      Crime|Drama  \n",
      "9114  Action|Adventure|Animation|Drama|Fantasy|Sci-Fi  \n",
      "9115                            Drama|Horror|Thriller  \n",
      "9116                   Action|Adventure|Horror|Sci-Fi  \n",
      "9117                                            Drama  \n",
      "9118                                            Drama  \n",
      "9119                                 Romance|Thriller  \n",
      "9120                          Adventure|Drama|Romance  \n",
      "9121                  Action|Adventure|Fantasy|Sci-Fi  \n",
      "9122                                      Documentary  \n",
      "9123                                           Comedy  \n",
      "9124                                      Documentary  \n",
      "\n",
      "[9125 rows x 3 columns]\n"
     ]
    }
   ],
   "source": [
    "ml_url = \"https://raw.githubusercontent.com/mustaphaLounici/RecMovies/master/ml-latest-small/movies.csv\"\n",
    "itemsDf = pd.read_csv(ml_url)\n",
    "print(itemsDf)"
   ]
  },
  {
   "cell_type": "code",
   "execution_count": 8,
   "metadata": {
    "colab": {},
    "colab_type": "code",
    "id": "LycvU_BIC--d"
   },
   "outputs": [],
   "source": [
    "def mapUserToCategory(userRow):\n",
    "    userCategory = {'Adventure': {'ratings': 0.0, 'cmp': 0}, 'Action': {'ratings': 0.0, 'cmp': 0}, 'Animation': {'ratings': 0.0, 'cmp': 0}, \"Children\": {'ratings': 0.0, 'cmp': 0}, 'Comedy': {'ratings': 0.0, 'cmp': 0}, 'Fantasy': {'ratings': 0.0, 'cmp': 0}, 'Romance': {'ratings': 0.0, 'cmp': 0}, 'Drama': {'ratings': 0.0, 'cmp': 0}, 'Crime': {'ratings': 0.0, 'cmp': 0}, 'Thriller': {'ratings': 0.0, 'cmp': 0}, 'Horror': {'ratings': 0.0, 'cmp': 0}, 'Mystery': {'ratings': 0.0, 'cmp': 0}, 'Sci-Fi': {'ratings': 0.0, 'cmp': 0}, 'Documentary': {'ratings': 0.0, 'cmp': 0}, 'IMAX': {'ratings': 0.0, 'cmp': 0}, 'War': {'ratings': 0.0, 'cmp': 0}, 'Musical': {'ratings': 0.0, 'cmp': 0}, 'Western': {'ratings': 0.0, 'cmp': 0}, 'Film-Noir': {'ratings': 0.0, 'cmp': 0}}\n",
    "    for i in range(len(userRow)):\n",
    "        rating = userRow[i]\n",
    "        if rating == 0:\n",
    "              continue\n",
    "         \n",
    "        category =itemsDf.loc[itemsDf[\"movieId\"] == getRawItemsId(i)]\n",
    "        category = category[\"genres\"].values[0]\n",
    "        category = category.split('|')\n",
    "        \n",
    "        for cat in category:\n",
    "            if cat == \"(no genres listed)\":\n",
    "              continue\n",
    "            userCategory[cat][\"ratings\"] = userCategory[cat][\"ratings\"] + rating\n",
    "            \n",
    "            userCategory[cat][\"cmp\"] = userCategory[cat][\"cmp\"] + 1\n",
    "             \n",
    "    for cat in userCategory:\n",
    "      if userCategory[cat][\"ratings\"] == 0 :\n",
    "        userCategory[cat] = 0\n",
    "      else :\n",
    "        userCategory[cat] = userCategory[cat][\"ratings\"] / userCategory[cat]['cmp']\n",
    "      \n",
    "    return userCategory"
   ]
  },
  {
   "cell_type": "code",
   "execution_count": null,
   "metadata": {
    "colab": {},
    "colab_type": "code",
    "id": "ExJJAnbyShtm"
   },
   "outputs": [],
   "source": [
    "def matByCategory (ratMatrix) :\n",
    "  mat = []\n",
    "  for user in ratMatrix :\n",
    "    mat.append(list(mapUserToCategory(user).values()))\n",
    "  return mat\n",
    "catMatrix = matByCategory(ratMatrix)"
   ]
  },
  {
   "cell_type": "code",
   "execution_count": null,
   "metadata": {
    "colab": {
     "base_uri": "https://localhost:8080/",
     "height": 295
    },
    "colab_type": "code",
    "id": "Z-k5GDJlASKm",
    "outputId": "389553d0-fb88-42b3-8a56-3961a0eaf268"
   },
   "outputs": [],
   "source": [
    "# calc best K \n",
    "import matplotlib.pyplot as plt\n",
    "\n",
    "Sum_of_squared_distances = []\n",
    "K = range(1,20)\n",
    "for k in K:\n",
    "    km = KMeans(n_clusters=k)\n",
    "    km = km.fit(np.array(catMatrix))\n",
    "    Sum_of_squared_distances.append(km.inertia_)\n",
    "    \n",
    "plt.plot(K, Sum_of_squared_distances, 'bx-')\n",
    "plt.xlabel('k')\n",
    "plt.ylabel('Sum_of_squared_distances')\n",
    "plt.title('Elbow Method For Optimal k (Kmeans) ')\n",
    "plt.show()"
   ]
  },
  {
   "cell_type": "code",
   "execution_count": null,
   "metadata": {
    "colab": {
     "base_uri": "https://localhost:8080/",
     "height": 295
    },
    "colab_type": "code",
    "id": "vRdcNx22B4Ev",
    "outputId": "6ec9eb85-e87f-431c-b026-79aa5c3e97ea"
   },
   "outputs": [],
   "source": [
    "# calc best K \n",
    "Sum_of_squared_distances = []\n",
    "K = range(1,20)\n",
    "data =np.transpose(np.array(catMatrix))\n",
    "for k in K:\n",
    "    cntr, u, u0, d, jm, p, fpc = fuzz.cluster.cmeans(\n",
    "    data,k, 2, error=0.001, maxiter=900000, init=None)\n",
    "    \n",
    "    Sum_of_squared_distances.append(fpc)\n",
    "    \n",
    "plt.plot(K, Sum_of_squared_distances, 'bx-')\n",
    "plt.xlabel('k')\n",
    "plt.ylabel('fpc')\n",
    "plt.title('Elbow Method For Optimal k (Cmeans)')\n",
    "plt.show()"
   ]
  },
  {
   "cell_type": "code",
   "execution_count": null,
   "metadata": {
    "colab": {},
    "colab_type": "code",
    "id": "VcsYBsWxw0eL"
   },
   "outputs": [],
   "source": [
    "nbCluster = 5"
   ]
  },
  {
   "cell_type": "code",
   "execution_count": null,
   "metadata": {
    "colab": {
     "base_uri": "https://localhost:8080/",
     "height": 1275
    },
    "colab_type": "code",
    "id": "9_PchoCuGqzQ",
    "outputId": "11e294a5-578f-4a78-c663-f067b77d7493"
   },
   "outputs": [],
   "source": [
    "from sklearn.cluster import AffinityPropagation\n",
    "import numpy as np\n",
    "clustering = AffinityPropagation().fit(np.array(catMatrix))\n",
    "# print(clustering) \n",
    "\n",
    "print(clustering.labels_)\n",
    "\n",
    "import collections\n",
    "collections.Counter(clustering.labels_ )\n",
    "\n",
    "# print(clustering.cluster_centers_)"
   ]
  },
  {
   "cell_type": "code",
   "execution_count": null,
   "metadata": {
    "colab": {
     "base_uri": "https://localhost:8080/",
     "height": 374
    },
    "colab_type": "code",
    "id": "sUUU0kycTl7Y",
    "outputId": "bcdd9b93-f42b-4055-a8ef-df90309d7d56"
   },
   "outputs": [],
   "source": [
    "kmeans = KMeans(n_clusters=nbCluster, random_state=0).fit(np.array(catMatrix))\n",
    "print( kmeans.labels_ )\n",
    "print(kmeans.inertia_)\n",
    "import collections\n",
    "collections.Counter(kmeans.labels_ )\n"
   ]
  },
  {
   "cell_type": "code",
   "execution_count": null,
   "metadata": {
    "colab": {
     "base_uri": "https://localhost:8080/",
     "height": 425
    },
    "colab_type": "code",
    "id": "TQlQMaCxXQTV",
    "outputId": "e65f3acb-f32c-41c8-8be8-2136ce6d0b95"
   },
   "outputs": [],
   "source": [
    "\n",
    "cntr, u, u0, d, jm, p, fpc = fuzz.cluster.cmeans(\n",
    "    np.transpose(np.array(catMatrix)),nbCluster, 2, error=0.005, maxiter=1000, init=None)\n",
    "print(cntr,u)"
   ]
  },
  {
   "cell_type": "code",
   "execution_count": null,
   "metadata": {
    "colab": {},
    "colab_type": "code",
    "id": "X89GaCnnAYi6"
   },
   "outputs": [],
   "source": [
    "import matplotlib.pyplot as plt\n",
    "\n",
    "# (kmeans.cluster_centers_)\n",
    "def scatter_plot(clusters,title):\n",
    "  fig = plt.figure(figsize=(18, 5), dpi= 80)\n",
    "  for c in clusters :\n",
    "    x = ['Adventure', 'Action', 'Animation', 'Children', 'Comedy', 'Fantasy', 'Romance', 'Drama', 'Crime', 'Thriller', 'Horror', 'Mystery', 'Sci-Fi', 'Documentary', 'IMAX', 'War', 'Musical', 'Western', 'Film-Noir']\n",
    "    y = c\n",
    "    plt.scatter(x,y, s=80)\n",
    "  plt.title(title,color='black',size='large')\n",
    "  plt.grid()\n",
    "  plt.show()\n",
    "\n"
   ]
  },
  {
   "cell_type": "code",
   "execution_count": null,
   "metadata": {
    "colab": {
     "base_uri": "https://localhost:8080/",
     "height": 1073
    },
    "colab_type": "code",
    "id": "KZovMr1gsSqH",
    "outputId": "70cffd91-6e91-404d-f198-c3de3a6cc65d"
   },
   "outputs": [],
   "source": [
    "scatter_plot(cntr , title=\"Cmeans\")\n",
    "scatter_plot(kmeans.cluster_centers_,title=\"Kmeans\")\n",
    "scatter_plot(clustering.cluster_centers_,title=\"affinity\")"
   ]
  },
  {
   "cell_type": "code",
   "execution_count": null,
   "metadata": {
    "colab": {},
    "colab_type": "code",
    "id": "GvvM3wBChcNt"
   },
   "outputs": [],
   "source": [
    "import numpy as np\n",
    "import matplotlib.pyplot as plt\n",
    "from matplotlib.path import Path\n",
    "from matplotlib.spines import Spine\n",
    "from matplotlib.projections.polar import PolarAxes\n",
    "from matplotlib.projections import register_projection\n",
    "\n",
    "\n",
    "def radar_factory(num_vars, frame='circle'):\n",
    "  \n",
    "    theta = np.linspace(0, 2*np.pi, num_vars, endpoint=False)\n",
    "\n",
    "    def draw_poly_patch(self):\n",
    "        # rotate theta such that the first axis is at the top\n",
    "        verts = unit_poly_verts(theta + np.pi / 2)\n",
    "        return plt.Polygon(verts, closed=True, edgecolor='k')\n",
    "\n",
    "    def draw_circle_patch(self):\n",
    "        # unit circle centered on (0.5, 0.5)\n",
    "        return plt.Circle((0.5, 0.5), 0.5)\n",
    "\n",
    "    patch_dict = {'polygon': draw_poly_patch, 'circle': draw_circle_patch}\n",
    "    if frame not in patch_dict:\n",
    "        raise ValueError('unknown value for `frame`: %s' % frame)\n",
    "\n",
    "    class RadarAxes(PolarAxes):\n",
    "\n",
    "        name = 'radar'\n",
    "        # use 1 line segment to connect specified points\n",
    "        RESOLUTION = 1\n",
    "        # define draw_frame method\n",
    "        draw_patch = patch_dict[frame]\n",
    "\n",
    "        def __init__(self, *args, **kwargs):\n",
    "            super(RadarAxes, self).__init__(*args, **kwargs)\n",
    "            # rotate plot such that the first axis is at the top\n",
    "            self.set_theta_zero_location('N')\n",
    "\n",
    "        def fill(self, *args, **kwargs):\n",
    "            \"\"\"Override fill so that line is closed by default\"\"\"\n",
    "            closed = kwargs.pop('closed', True)\n",
    "            return super(RadarAxes, self).fill(closed=closed, *args, **kwargs)\n",
    "\n",
    "        def plot(self, *args, **kwargs):\n",
    "            \"\"\"Override plot so that line is closed by default\"\"\"\n",
    "            lines = super(RadarAxes, self).plot(*args, **kwargs)\n",
    "            for line in lines:\n",
    "                self._close_line(line)\n",
    "\n",
    "        def _close_line(self, line):\n",
    "            x, y = line.get_data()\n",
    "            # FIXME: markers at x[0], y[0] get doubled-up\n",
    "            if x[0] != x[-1]:\n",
    "                x = np.concatenate((x, [x[0]]))\n",
    "                y = np.concatenate((y, [y[0]]))\n",
    "                line.set_data(x, y)\n",
    "\n",
    "        def set_varlabels(self, labels):\n",
    "            self.set_thetagrids(np.degrees(theta), labels)\n",
    "\n",
    "        def _gen_axes_patch(self):\n",
    "            return self.draw_patch()\n",
    "\n",
    "        def _gen_axes_spines(self):\n",
    "            if frame == 'circle':\n",
    "                return PolarAxes._gen_axes_spines(self)\n",
    "            # The following is a hack to get the spines (i.e. the axes frame)\n",
    "            # to draw correctly for a polygon frame.\n",
    "\n",
    "            # spine_type must be 'left', 'right', 'top', 'bottom', or `circle`.\n",
    "            spine_type = 'circle'\n",
    "            verts = unit_poly_verts(theta + np.pi / 2)\n",
    "            # close off polygon by repeating first vertex\n",
    "            verts.append(verts[0])\n",
    "            path = Path(verts)\n",
    "\n",
    "            spine = Spine(self, spine_type, path)\n",
    "            spine.set_transform(self.transAxes)\n",
    "            return {'polar': spine}\n",
    "\n",
    "    register_projection(RadarAxes)\n",
    "    return theta\n",
    "\n",
    "\n",
    "def unit_poly_verts(theta):\n",
    " \n",
    "    x0, y0, r = [0.5] * 3\n",
    "    verts = [(r*np.cos(t) + x0, r*np.sin(t) + y0) for t in theta]\n",
    "    return verts\n",
    "\n",
    "\n",
    "def example_data(clusters):\n",
    "\n",
    "    data = [\n",
    "        ['Adventure', 'Action', 'Animation', 'Children', 'Comedy', 'Fantasy', 'Romance', 'Drama', 'Crime', 'Thriller', 'Horror', 'Mystery', 'Sci-Fi', 'Documentary', 'IMAX', 'War', 'Musical', 'Western', 'Film-Noir']\n",
    "    ]\n",
    "    \n",
    "    \n",
    "    i  = 1\n",
    "#     data.append((\"profils\" ,clusters))\n",
    "    for c in clusters:\n",
    "      data.append((\"Profil \" + str(i) ,[c]))\n",
    "      i = i +1\n",
    "    return data\n",
    "\n",
    "\n"
   ]
  },
  {
   "cell_type": "code",
   "execution_count": null,
   "metadata": {
    "colab": {},
    "colab_type": "code",
    "id": "Krljd33OsdDo"
   },
   "outputs": [],
   "source": [
    "def radar_clusters(viz_title,clusters,rows=2,cols=3):\n",
    "  N = 19\n",
    "  theta = radar_factory(N, frame='polygon')\n",
    "\n",
    "  data = example_data(clusters)\n",
    "  #     cntr\n",
    "  # kmeans.cluster_centers_\n",
    "  spoke_labels = data.pop(0)\n",
    "\n",
    "  fig, axes = plt.subplots(figsize=(17, 17), nrows=rows, ncols=cols,\n",
    "                           subplot_kw=dict(projection='radar'))\n",
    "  fig.subplots_adjust(wspace=0.4, hspace=0.4, top=0.5, bottom=0.05)\n",
    "\n",
    "  colors = ['b', 'r', 'g', 'm', 'y']\n",
    "\n",
    "  for ax, (title, case_data) in zip(axes.flatten(), data):\n",
    "\n",
    "      ax.set_title(title, weight='bold', size='medium', position=(0.5, 1.1),\n",
    "                   horizontalalignment='center', verticalalignment='center')\n",
    "      \n",
    "      for d, color in zip(case_data, colors):\n",
    "          ax.plot(theta, d, color=color)\n",
    "          ax.fill(theta, d, facecolor=color, alpha=0.25)\n",
    "      ax.set_varlabels(spoke_labels)\n",
    "\n",
    "  plt.show()"
   ]
  },
  {
   "cell_type": "code",
   "execution_count": null,
   "metadata": {
    "colab": {
     "base_uri": "https://localhost:8080/",
     "height": 619
    },
    "colab_type": "code",
    "id": "c6hXTRPWdm_t",
    "outputId": "0f43eaea-4279-4fb5-b0a0-7a4cebb2b97c"
   },
   "outputs": [],
   "source": [
    "radar_clusters(\"afinity\",clustering.cluster_centers_,rows=8, cols=4)\n"
   ]
  },
  {
   "cell_type": "code",
   "execution_count": null,
   "metadata": {
    "colab": {
     "base_uri": "https://localhost:8080/",
     "height": 635
    },
    "colab_type": "code",
    "id": "bKWpSu8us_Ly",
    "outputId": "dc72ae2b-45f2-44b3-bb99-a0bb3dd7ab0b"
   },
   "outputs": [],
   "source": [
    "radar_clusters(\"Kmeans\",kmeans.cluster_centers_)\n"
   ]
  },
  {
   "cell_type": "code",
   "execution_count": null,
   "metadata": {
    "colab": {
     "base_uri": "https://localhost:8080/",
     "height": 635
    },
    "colab_type": "code",
    "id": "q195Nm0TwR_V",
    "outputId": "fecb9233-6c3d-443f-8827-b795e3efbd75"
   },
   "outputs": [],
   "source": [
    "radar_clusters(\"Cmeans\",cntr)"
   ]
  },
  {
   "cell_type": "code",
   "execution_count": null,
   "metadata": {
    "colab": {
     "base_uri": "https://localhost:8080/",
     "height": 238
    },
    "colab_type": "code",
    "id": "Mbq3YoEMzXt4",
    "outputId": "bbfb40e7-b22c-425f-c7fa-97669e19d938"
   },
   "outputs": [],
   "source": [
    "!pip install scikit-surprise\n",
    "from surprise import AlgoBase\n",
    "from surprise import Dataset\n",
    "from surprise.model_selection import cross_validate"
   ]
  },
  {
   "cell_type": "code",
   "execution_count": null,
   "metadata": {
    "colab": {
     "base_uri": "https://localhost:8080/",
     "height": 386
    },
    "colab_type": "code",
    "id": "dVzTkww4z15F",
    "outputId": "48d06517-a359-4be0-db15-e222c7fbf2da"
   },
   "outputs": [],
   "source": [
    "# getCluster(UserId)\n",
    "\n",
    "#cas 1 sans cluster\n",
    "class RecAlgo1(AlgoBase):\n",
    "\n",
    "    def __init__(self):\n",
    "        AlgoBase.__init__(self)\n",
    "        self.verbose = True\n",
    "\n",
    "        \n",
    "    def fit(self, trainset):\n",
    "        AlgoBase.fit(self, trainset)\n",
    "        \n",
    "        print(list(trainset.all_users()))\n",
    "#         build the Ratmatrix\n",
    "#         build the categoryMatrix\n",
    "#         clusters\n",
    "#         get clusters Mat\n",
    "\n",
    "#         self.sim = self.compute_similarities()\n",
    "\n",
    "        \n",
    "        return self\n",
    "\n",
    "    def estimate(self, u, i):\n",
    "#       if not (self.trainset.knows_user(u) and self.trainset.knows_item(i)):\n",
    "#             raise PredictionImpossible('User and/or item is unkown.')\n",
    "          \n",
    "#       neighbors = [(v, self.sim[u, v]) for (v, r) in self.trainset.ir[i]]\n",
    "      \n",
    "      # Sort these neighbors by similarity\n",
    "#       neighbors = sorted(neighbors, key=lambda x: x[1], reverse=True)\n",
    "\n",
    "#       print('The 3 nearest neighbors of user', str(u), 'are:')\n",
    "#       for v, sim_uv in neighbors[:3]:\n",
    "#           print('user {0:} with sim {1:1.2f}'.format(v, sim_uv))\n",
    "      \n",
    "      \n",
    "#       print(self.sim)\n",
    "      return 4\n",
    "    \n",
    "data = Dataset.load_builtin('ml-100k')\n",
    "algo = RecAlgo1()\n",
    "\n",
    "cross_validate(algo, data, verbose=True,cv=2)"
   ]
  },
  {
   "cell_type": "code",
   "execution_count": null,
   "metadata": {
    "colab": {},
    "colab_type": "code",
    "id": "QKX7PHiqw1sZ"
   },
   "outputs": [],
   "source": []
  },
  {
   "cell_type": "code",
   "execution_count": null,
   "metadata": {},
   "outputs": [],
   "source": []
  },
  {
   "cell_type": "code",
   "execution_count": null,
   "metadata": {},
   "outputs": [],
   "source": []
  },
  {
   "cell_type": "code",
   "execution_count": null,
   "metadata": {},
   "outputs": [],
   "source": []
  }
 ],
 "metadata": {
  "colab": {
   "collapsed_sections": [],
   "name": "ClusterRatMatrix.ipynb",
   "provenance": [],
   "version": "0.3.2"
  },
  "kernelspec": {
   "display_name": "Python 3",
   "language": "python",
   "name": "python3"
  },
  "language_info": {
   "codemirror_mode": {
    "name": "ipython",
    "version": 3
   },
   "file_extension": ".py",
   "mimetype": "text/x-python",
   "name": "python",
   "nbconvert_exporter": "python",
   "pygments_lexer": "ipython3",
   "version": "3.7.3"
  }
 },
 "nbformat": 4,
 "nbformat_minor": 2
}
